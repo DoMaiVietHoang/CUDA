{
 "cells": [
  {
   "cell_type": "markdown",
   "id": "f50aaa53",
   "metadata": {},
   "source": [
    "## Purpose\n",
    "\n",
    "Transform a Python function into a \"black box\" that can be seamlessly integrated and used within PyTorch, ensuring compatibility and avoiding conflicts with `torch.compile`.\n",
    "\n",
    "Example with an image processing by numpy"
   ]
  },
  {
   "cell_type": "code",
   "execution_count": 3,
   "id": "457a36ea",
   "metadata": {},
   "outputs": [],
   "source": [
    "import numpy as np\n",
    "import torch\n",
    "from torchvision.transforms.functional import to_pil_image, pil_to_tensor\n",
    "from scipy.ndimage import gaussian_filter"
   ]
  },
  {
   "cell_type": "code",
   "execution_count": 6,
   "id": "12fc2a36",
   "metadata": {},
   "outputs": [],
   "source": [
    "@torch.library.custom_op(\"mylib::blur_numpy\", mutates_args=())\n",
    "def blur_numpy(pic: torch.Tensor, sigma: float) -> torch.Tensor:\n",
    "    img = pic.cpu().numpy()\n",
    "    blurred = gaussian_filter(img, sigma=sigma)\n",
    "    return torch.from_numpy(blurred).to(pic.device, pic.dtype)"
   ]
  }
 ],
 "metadata": {
  "kernelspec": {
   "display_name": "TXM",
   "language": "python",
   "name": "python3"
  },
  "language_info": {
   "codemirror_mode": {
    "name": "ipython",
    "version": 3
   },
   "file_extension": ".py",
   "mimetype": "text/x-python",
   "name": "python",
   "nbconvert_exporter": "python",
   "pygments_lexer": "ipython3",
   "version": "3.10.16"
  }
 },
 "nbformat": 4,
 "nbformat_minor": 5
}
